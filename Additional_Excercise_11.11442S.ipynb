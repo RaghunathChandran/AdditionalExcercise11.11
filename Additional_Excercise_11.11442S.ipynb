{
 "cells": [
  {
   "cell_type": "markdown",
   "metadata": {},
   "source": [
    "# Additional Exercise 11.1 - Raghunath"
   ]
  },
  {
   "cell_type": "markdown",
   "metadata": {},
   "source": [
    "## NOTE: Will be doing  step by step calculation using basic python programming, instead of using built-in functions"
   ]
  },
  {
   "cell_type": "markdown",
   "metadata": {},
   "source": [
    "## Problem Statement 1: [50 marks]\n",
    "### The marks awarded for an assignment set for a Year 8 class of 20 students were as follows:\n",
    "    6 7 5 7 7 8 7 6 9 7 4 10 6 8 8 9 5 6 4 8\n",
    "#### Calculate the mean, median, mode and standard deviation "
   ]
  },
  {
   "cell_type": "code",
   "execution_count": 20,
   "metadata": {},
   "outputs": [],
   "source": [
    "import pandas as pd\n",
    "import math as m\n",
    "import numpy as np"
   ]
  },
  {
   "cell_type": "code",
   "execution_count": 42,
   "metadata": {},
   "outputs": [
    {
     "name": "stdout",
     "output_type": "stream",
     "text": [
      "μ = 6.85\n",
      "\n",
      "Sorted marks in ascending order: [4, 4, 5, 5, 6, 6, 6, 6, 7, 7, 7, 7, 7, 8, 8, 8, 8, 9, 9, 10]\n",
      "\n",
      "The 10th and 11th elements are 7 and 7 respectively.\n",
      "So Median = (7+7)/2 = 7\n",
      "\n",
      "The most commonly scored marks is 7 which occurs 5 times.\n",
      "Hence mode - Mo = 7\n",
      "Variance - s2 = 2.53\n",
      "Standard Deviation - s = 1.59 \n"
     ]
    }
   ],
   "source": [
    "x = [6, 7, 5, 7, 7, 8, 7, 6, 9, 7, 4, 10, 6, 8, 8, 9, 5, 6, 4, 8]\n",
    "\n",
    "# markSummation = ∑x\n",
    "markSummation = sum(x)\n",
    "N = len(x)\n",
    "\n",
    "μ = markSummation / N # Mean is the sum of all elements divide by the total number of elements\n",
    "print(\"μ = {0}\".format(μ))\n",
    "sortedMarks = sorted(x)\n",
    "print(\"\\nSorted marks in ascending order: {0}\".format(sortedMarks))\n",
    "print(\"\\nThe 10th and 11th elements are 7 and 7 respectively.\\nSo Median = (7+7)/2 = 7\")\n",
    "print(\"\\nThe most commonly scored marks is 7 which occurs 5 times.\\nHence mode - Mo = 7\")\n",
    "\n",
    "#σ2 = ∑ \n",
    "σ2 = sum([(xi - μ)**2 for xi in x])/20\n",
    "print(\"Variance - s2 = {0}\".format(round(σ2,2)))\n",
    "s = np.sqrt(σ2)\n",
    "print(\"Standard Deviation - s = {0} \".format(round(s,2)))"
   ]
  },
  {
   "cell_type": "markdown",
   "metadata": {},
   "source": [
    "## Problem Statement 2: [50 marks]\n",
    "### The number of calls from motorists per day for roadside service was recorded for a particular month:\n",
    "    28, 122, 217, 130, 120, 86, 80, 90, 140, 120, 70, 40, 145, 113, 90, 68, 174, 194, 170, 100, 75, 104, 97, 75,\n",
    "    123, 100, 75, 104, 97, 75, 123, 100, 89, 120, 109\n",
    "\n",
    "#### Calculate the mean, median, mode and standard deviation "
   ]
  },
  {
   "cell_type": "code",
   "execution_count": 43,
   "metadata": {},
   "outputs": [
    {
     "name": "stdout",
     "output_type": "stream",
     "text": [
      "∑xn = 3763\n",
      "\n",
      "Total number of days: 35\n",
      "\n",
      " x̄ =  107.51428571428572\n",
      "\n",
      "Sorted list of calls per day in ascending order: \n",
      "[28, 40, 68, 70, 75, 75, 75, 75, 80, 86, 89, 90, 90, 97, 97, 100, 100, 100, 104, 104, 109, 113, 120, 120, 120, 122, 123, 123, 130, 140, 145, 170, 174, 194, 217]\n",
      "\n",
      "The total number of sample used is 35.\n",
      "So Median = 104\n",
      "\n",
      "75 calls per day has the highest frequency which occurs 4 times.\n",
      "So Mode - Mo= 75\n",
      "\n",
      "Sample Variance - s2 = 1547.55\n",
      "\n",
      "Sample Standard Deviation - s = 39.34\n"
     ]
    }
   ],
   "source": [
    "x = [28, 122, 217, 130, 120, 86, 80, 90, 140, 120, 70, 40, 145, 113, 90, 68, 174, 194, 170, 100, 75, 104, 97, 75,\n",
    "123, 100, 75, 104, 97, 75, 123, 100, 89, 120, 109]\n",
    "\n",
    "# SummationOfCalls = ∑x\n",
    "SummationOfCalls = sum(x)\n",
    "#SummationOfCalls = sum(callsPerday)\n",
    "n = len(x)\n",
    "\n",
    "print(\"∑xn = {0}\".format(SummationOfCalls))\n",
    "print(\"\\nTotal number of days: {0}\".format(n))\n",
    "x̄ = SummationOfCalls / n # Mean is the sum of all elements divide by the total number of elements\n",
    "print(\"\\n x̄ =  {0}\".format(x̄))\n",
    "sortedlistofCallsperday = sorted(x)\n",
    "print(\"\\nSorted list of calls per day in ascending order: \\n{0}\".format(sortedlistofCallsperday))\n",
    "\n",
    "print(\"\\nThe total number of sample used is 35.\\nHence, Median = {0}\".format(sortedlistofCallsperday[18]))\n",
    "print(\"\\n75 calls per day has the highest frequency which occurs 4 times.\\nHence, Mode - Mo= 75\")\n",
    "\n",
    "#Sample variance s2 = ∑ (xi -  x̄) / (n-1)\n",
    "s2 = sum([(xi - x̄)**2 for xi in x])/(n-1)\n",
    "print(\"\\nSample Variance - s2 = {0}\".format(round(s2,2)))\n",
    "s = np.sqrt(s2)\n",
    "print(\"\\nSample Standard Deviation - s = {0}\".format(round(s,2)))"
   ]
  },
  {
   "cell_type": "markdown",
   "metadata": {},
   "source": [
    "## Problem Statement 3: [100 marks]\n",
    "### The number of times I go to the gym in weekdays, are given below along with its associated probability:\n",
    "    x = 0, 1, 2, 3, 4, 5\n",
    "    f(x) = 0.09, 0.15, 0.40, 0.25, 0.10, 0.01\n",
    "#### Calculate the mean no. of workouts in a week. Also evaluate the variance involved in it.\n",
    "\n",
    "<img src='Solution2.jpg' alt='sol2' style=\"width: 500px;\"/>\n"
   ]
  },
  {
   "cell_type": "markdown",
   "metadata": {},
   "source": [
    "## Problem Statement 4: [100 marks]\n",
    "\n",
    "    Let the continuous random variable D denote the diameter of the hole drilled in an aluminum sheet. The\n",
    "    target diameter to be achieved is 12.5mm. Random disturbances in the process often result in inaccuracy.\n",
    "    Historical data shows that the distribution of D can be modelled by the PDF 𝑓(𝑑) = 20𝑒−20(𝑑−12.5), 𝑑 ≥ 12.5. \n",
    "    \n",
    "    If a part with diameter > 12.6 mm needs to be scrapped, what is the proportion of those parts? What\n",
    "    is the CDF when the diameter is of 11 mm? What is your conclusion regarding the proportion of scraps?    \n",
    "    \n",
    "<img src='Solution1.jpg' alt='sol1' style=\"width: 500px;\"/>\n"
   ]
  },
  {
   "cell_type": "code",
   "execution_count": null,
   "metadata": {},
   "outputs": [],
   "source": []
  }
 ],
 "metadata": {
  "kernelspec": {
   "display_name": "Python 3",
   "language": "python",
   "name": "python3"
  },
  "language_info": {
   "codemirror_mode": {
    "name": "ipython",
    "version": 3
   },
   "file_extension": ".py",
   "mimetype": "text/x-python",
   "name": "python",
   "nbconvert_exporter": "python",
   "pygments_lexer": "ipython3",
   "version": "3.7.1"
  }
 },
 "nbformat": 4,
 "nbformat_minor": 2
}
